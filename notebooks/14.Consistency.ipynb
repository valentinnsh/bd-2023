{
 "cells": [
  {
   "attachments": {},
   "cell_type": "markdown",
   "metadata": {},
   "source": [
    "# Распределенные системы\n",
    "\n",
    "## \"Теорема\" CAP\n",
    "![CAT](../img/cat.png)"
   ]
  },
  {
   "attachments": {},
   "cell_type": "markdown",
   "metadata": {},
   "source": [
    "## BASE\n",
    "\n",
    "**Basically available**: система доступна даже в случае \"partitioning\"\n",
    "\n",
    "**Soft-state**: состояние системы может меняться со временем без каких любо действий пользователя\n",
    "\n",
    "**Eventual consistency**: гарантируется, что состояние системы приходит к согласованному виду спустя какой-то промежуток времени\n",
    "\n",
    "\n",
    "### Модели согласованности данных в распределенных системах\n",
    "\n",
    "**Strict consistency** - самая строгая детерминированная модель  \n",
    "\n",
    "**Sequential consistency** - операции изменения состояния в системе видны в том порядке, в котором они были выполнены\n",
    "\n",
    "**Eventual consistency** - гарантируется, что состояние системы приходит к согласованному виду спустя какой-то промежуток времени\n"
   ]
  },
  {
   "attachments": {},
   "cell_type": "markdown",
   "metadata": {},
   "source": [
    "## Алгоритмы консенсуса\n",
    "\n",
    "**Paxos**\n",
    "\n",
    "![Paxos](https://upload.wikimedia.org/wikipedia/commons/thumb/5/57/Basic_Paxos_without_failures.svg/1024px-Basic_Paxos_without_failures.svg.png)"
   ]
  },
  {
   "cell_type": "markdown",
   "metadata": {},
   "source": []
  }
 ],
 "metadata": {
  "language_info": {
   "name": "python"
  },
  "orig_nbformat": 4
 },
 "nbformat": 4,
 "nbformat_minor": 2
}
