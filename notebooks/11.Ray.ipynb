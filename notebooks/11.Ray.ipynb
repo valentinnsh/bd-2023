{
 "cells": [
  {
   "cell_type": "markdown",
   "metadata": {},
   "source": [
    "# RAY"
   ]
  },
  {
   "cell_type": "code",
   "execution_count": 1,
   "metadata": {},
   "outputs": [
    {
     "name": "stderr",
     "output_type": "stream",
     "text": [
      "2022-05-27 13:24:00,418\tINFO services.py:1462 -- View the Ray dashboard at \u001b[1m\u001b[32mhttp://127.0.0.1:8265\u001b[39m\u001b[22m\n"
     ]
    },
    {
     "data": {
      "text/plain": [
       "RayContext(dashboard_url='127.0.0.1:8265', python_version='3.6.9', ray_version='1.12.0', ray_commit='f18fc31c7562990955556899090f8e8656b48d2d', address_info={'node_ip_address': '10.0.2.15', 'raylet_ip_address': '10.0.2.15', 'redis_address': None, 'object_store_address': '/tmp/ray/session_2022-05-27_13-23-56_475995_14352/sockets/plasma_store', 'raylet_socket_name': '/tmp/ray/session_2022-05-27_13-23-56_475995_14352/sockets/raylet', 'webui_url': '127.0.0.1:8265', 'session_dir': '/tmp/ray/session_2022-05-27_13-23-56_475995_14352', 'metrics_export_port': 47871, 'gcs_address': '10.0.2.15:44541', 'address': '10.0.2.15:44541', 'node_id': 'f22bd92195efe388369e947f04ec77ec70e65123fd70445e8316218b'})"
      ]
     },
     "execution_count": 1,
     "metadata": {},
     "output_type": "execute_result"
    }
   ],
   "source": [
    "import ray\n",
    "import pandas as pd\n",
    "\n",
    "ray.init()"
   ]
  },
  {
   "cell_type": "markdown",
   "metadata": {},
   "source": [
    "### Управление объектами в Object Store"
   ]
  },
  {
   "cell_type": "code",
   "execution_count": 2,
   "metadata": {},
   "outputs": [
    {
     "name": "stdout",
     "output_type": "stream",
     "text": [
      "ObjectRef(00ffffffffffffffffffffffffffffffffffffff0100000001000000)\n",
      "Hello world\n"
     ]
    }
   ],
   "source": [
    "y = \"Hello world\"\n",
    "y_ref = ray.put(y)\n",
    "\n",
    "print(y_ref)\n",
    "print(ray.get(y_ref))"
   ]
  },
  {
   "cell_type": "markdown",
   "metadata": {},
   "source": [
    "### Tasks"
   ]
  },
  {
   "cell_type": "code",
   "execution_count": 3,
   "metadata": {},
   "outputs": [
    {
     "name": "stdout",
     "output_type": "stream",
     "text": [
      "3\n",
      "2\n"
     ]
    }
   ],
   "source": [
    "@ray.remote(num_cpus=1)\n",
    "def func(a: int) -> int:\n",
    "    return a + 1\n",
    "\n",
    "# аргумент автоматически добавляется в хранилище\n",
    "res_ref = func.remote(2)\n",
    "print(ray.get(res_ref))\n",
    "\n",
    "# можно добавить вручную\n",
    "y = 1\n",
    "y_ref = ray.put(y)\n",
    "res_ref = func.remote(y_ref)\n",
    "print(ray.get(res_ref))"
   ]
  },
  {
   "cell_type": "markdown",
   "metadata": {},
   "source": [
    "### Actors"
   ]
  },
  {
   "cell_type": "code",
   "execution_count": 4,
   "metadata": {},
   "outputs": [
    {
     "name": "stdout",
     "output_type": "stream",
     "text": [
      "Hello\n"
     ]
    }
   ],
   "source": [
    "# если нужен объект, который существует в единственном экземпляре\n",
    "@ray.remote\n",
    "class Actor:\n",
    "    def __init__(self):\n",
    "        self.d = dict()    \n",
    "\n",
    "    def get(self, k: int) -> str:\n",
    "        return self.d[k]\n",
    "\n",
    "    def set(self, k: int, v: str):        \n",
    "        self.d[k] = v\n",
    "\n",
    "\n",
    "actor_ref = Actor.remote()\n",
    "actor_ref.set.remote(2, \"Hello\")\n",
    "\n",
    "res_ref = actor_ref.get.remote(2)\n",
    "print(ray.get(res_ref))"
   ]
  },
  {
   "cell_type": "markdown",
   "metadata": {},
   "source": [
    "### Datasets"
   ]
  },
  {
   "cell_type": "code",
   "execution_count": 5,
   "metadata": {},
   "outputs": [
    {
     "name": "stderr",
     "output_type": "stream",
     "text": [
      "Map Progress: 100%|██████████| 1/1 [00:00<00:00, 27.98it/s]\n",
      "Repartition: 100%|██████████| 2/2 [00:00<00:00, 48.55it/s]\n",
      "Map Progress: 100%|██████████| 2/2 [00:00<00:00, 46.59it/s]\n",
      "Map Progress:   0%|          | 0/2 [00:00<?, ?it/s]"
     ]
    },
    {
     "name": "stdout",
     "output_type": "stream",
     "text": [
      "{'DATE': datetime.date(2017, 4, 1), 'EUR': 59.8107, 'USD': 55.9606, 'GBP': 69.7605}\n",
      "{'DATE': datetime.date(2017, 4, 4), 'EUR': 59.8953, 'USD': 56.1396, 'GBP': 70.3429}\n",
      "{'DATE': datetime.date(2017, 4, 5), 'EUR': 60.2427, 'USD': 56.5553, 'GBP': 70.3548}\n",
      "{'DATE': datetime.date(2017, 4, 6), 'EUR': 59.6948, 'USD': 55.894, 'GBP': 69.4986}\n",
      "{'DATE': datetime.date(2017, 4, 7), 'EUR': 60.0827, 'USD': 56.4369, 'GBP': 70.3655}\n",
      "{'USD': 111.9212}\n",
      "{'USD': 112.2792}\n",
      "{'USD': 113.1106}\n",
      "{'USD': 111.788}\n",
      "{'USD': 112.8738}\n"
     ]
    },
    {
     "name": "stderr",
     "output_type": "stream",
     "text": [
      "Map Progress: 100%|██████████| 2/2 [00:00<00:00, 21.88it/s]\n"
     ]
    },
    {
     "name": "stdout",
     "output_type": "stream",
     "text": [
      "{'DATE': datetime.date(2017, 4, 1), 'EUR': 59.8107, 'USD': 111.9212, 'GBP': 69.7605}\n",
      "{'DATE': datetime.date(2017, 4, 4), 'EUR': 59.8953, 'USD': 112.2792, 'GBP': 70.3429}\n",
      "{'DATE': datetime.date(2017, 4, 5), 'EUR': 60.2427, 'USD': 113.1106, 'GBP': 70.3548}\n",
      "{'DATE': datetime.date(2017, 4, 6), 'EUR': 59.6948, 'USD': 111.788, 'GBP': 69.4986}\n",
      "{'DATE': datetime.date(2017, 4, 7), 'EUR': 60.0827, 'USD': 112.8738, 'GBP': 70.3655}\n"
     ]
    }
   ],
   "source": [
    "ds = ray.data.range(10000)\n",
    "ds = ray.data.read_csv(\"currencies.csv\")\n",
    "ds.show(5)\n",
    "\n",
    "ds = ds.repartition(2)\n",
    "\n",
    "ds_new = ds.map(\n",
    "    lambda record: {\"USD\" : 2 * record[\"USD\"] }\n",
    ")\n",
    "ds_new.show(5)\n",
    "\n",
    "def _mapper(df: pd.DataFrame) -> pd.DataFrame:\n",
    "    df[\"USD\"] *= 2\n",
    "    return df\n",
    "\n",
    "ds_new = ds.map_batches(\n",
    "    _mapper, \n",
    "    batch_format=\"pandas\"\n",
    ")\n",
    "ds_new.show(5)"
   ]
  }
 ],
 "metadata": {
  "interpreter": {
   "hash": "31f2aee4e71d21fbe5cf8b01ff0e069b9275f58929596ceb00d14d90e3e16cd6"
  },
  "kernelspec": {
   "display_name": "Python 3.6.9 64-bit",
   "language": "python",
   "name": "python3"
  },
  "language_info": {
   "codemirror_mode": {
    "name": "ipython",
    "version": 3
   },
   "file_extension": ".py",
   "mimetype": "text/x-python",
   "name": "python",
   "nbconvert_exporter": "python",
   "pygments_lexer": "ipython3",
   "version": "3.6.9"
  },
  "orig_nbformat": 4
 },
 "nbformat": 4,
 "nbformat_minor": 2
}