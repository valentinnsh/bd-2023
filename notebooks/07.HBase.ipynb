{
 "cells": [
  {
   "cell_type": "markdown",
   "metadata": {},
   "source": [
    "# HBase"
   ]
  },
  {
   "cell_type": "markdown",
   "metadata": {},
   "source": [
    "Колоночная нереляционная база данных. В качестве хранилища используется HDFS.\n",
    "\n",
    "Обзор архитектуры:\n",
    "![](https://d1jnx9ba8s6j9r.cloudfront.net/blog/wp-content/uploads/2016/11/ZooKeeper-HBase-Architecture-Edureka-768x479.png)"
   ]
  },
  {
   "cell_type": "code",
   "execution_count": 8,
   "metadata": {},
   "outputs": [
    {
     "name": "stdout",
     "output_type": "stream",
     "text": [
      "Get b'value1'\n",
      "Get  b'row-key-1' {b'cf1:col1': b'value1', b'cf2:col2': b'value2'}\n",
      "Get  b'row-key-2' {b'cf1:col3': b'value1', b'cf2:col4': b'value2'}\n",
      "Scan b'row-key' {b'cf1:col1': b'value1', b'cf2:col2': b'value2'}\n",
      "Scan b'row-key-1' {b'cf1:col1': b'value1', b'cf2:col2': b'value2'}\n",
      "Scan b'row-key-2' {b'cf1:col3': b'value1', b'cf2:col4': b'value2'}\n"
     ]
    }
   ],
   "source": [
    "import happybase\n",
    "\n",
    "connection = happybase.Connection('localhost', compat='0.98')\n",
    "\n",
    "connection.create_table(\n",
    "    'mytable',\n",
    "    {'cf1': dict(max_versions=5),\n",
    "     'cf2': dict(max_versions=3),\n",
    "     'cf3': dict(), \n",
    "    }\n",
    ")\n",
    "\n",
    "table = connection.table('mytable')\n",
    "\n",
    "table.put(b'row-key', {b'cf1:col1': b'value1',\n",
    "                       b'cf2:col2': b'value2'})\n",
    "\n",
    "row = table.row(b'row-key')\n",
    "print(f\"Get {row[b'cf1:col1']}\")  \n",
    "\n",
    "\n",
    "table.put(b'row-key-1', {b'cf1:col1': b'value1',\n",
    "                         b'cf2:col2': b'value2'})\n",
    "\n",
    "table.put(b'row-key-2', {b'cf1:col3': b'value1',\n",
    "                         b'cf2:col4': b'value2'})\n",
    "\n",
    "for key, data in table.rows([b'row-key-1', b'row-key-2']):\n",
    "    print('Get ', key, data)  \n",
    "for key, data in table.scan(row_prefix=b'row'):\n",
    "    print('Scan', key, data) \n",
    "\n",
    "row = table.delete(b'row-key')\n"
   ]
  },
  {
   "cell_type": "code",
   "execution_count": null,
   "metadata": {},
   "outputs": [],
   "source": []
  }
 ],
 "metadata": {
  "kernelspec": {
   "display_name": "Python 3.10.6 64-bit",
   "language": "python",
   "name": "python3"
  },
  "language_info": {
   "codemirror_mode": {
    "name": "ipython",
    "version": 3
   },
   "file_extension": ".py",
   "mimetype": "text/x-python",
   "name": "python",
   "nbconvert_exporter": "python",
   "pygments_lexer": "ipython3",
   "version": "3.10.6"
  },
  "vscode": {
   "interpreter": {
    "hash": "916dbcbb3f70747c44a77c7bcd40155683ae19c65e1c03b4aa3499c5328201f1"
   }
  }
 },
 "nbformat": 4,
 "nbformat_minor": 4
}
